{
 "cells": [
  {
   "cell_type": "code",
   "execution_count": null,
   "id": "344bdc07",
   "metadata": {},
   "outputs": [],
   "source": [
    "def myfunc(n):\n",
    "    return len(n)\n",
    "x = map(myfunc, ('apple', 'banana', 'cherry'))\n"
   ]
  },
  {
   "cell_type": "code",
   "execution_count": 1,
   "id": "64959053",
   "metadata": {},
   "outputs": [],
   "source": [
    "def myfunc(a, b):\n",
    "    print (a + b)\n",
    "\n",
    "x = map(myfunc, ('apple', 'banana', 'cherry'), ('orange', 'lemon', 'pineapple'))"
   ]
  },
  {
   "cell_type": "code",
   "execution_count": 7,
   "id": "8dd64d74",
   "metadata": {},
   "outputs": [
    {
     "name": "stdout",
     "output_type": "stream",
     "text": [
      "true\n"
     ]
    }
   ],
   "source": [
    "import re\n",
    "\n",
    "txt = \"The rain in Spain\"\n",
    "x = re.search(\"^The.*in.*Spain$\", txt)\n",
    "if x:\n",
    "    print(\"true\")"
   ]
  },
  {
   "cell_type": "code",
   "execution_count": 19,
   "id": "65e96c72",
   "metadata": {},
   "outputs": [
    {
     "name": "stdout",
     "output_type": "stream",
     "text": [
      "('hi', 'ho', 'fes')\n"
     ]
    }
   ],
   "source": [
    "class cars:\n",
    "    def __init__(self,color,types,drive):\n",
    "        self.color = color\n",
    "        self.types = types\n",
    "        self.drive = drive\n",
    "    def display(self):\n",
    "        return (self.color,self.types,self.drive)\n",
    "a = cars(\"hi\",\"ho\",\"fes\")\n",
    "l = [a]\n",
    "for i in l:\n",
    "    print (i.display())\n",
    "\n",
    "        "
   ]
  },
  {
   "cell_type": "code",
   "execution_count": null,
   "id": "eaf32bc3",
   "metadata": {},
   "outputs": [],
   "source": []
  }
 ],
 "metadata": {
  "kernelspec": {
   "display_name": "Python 3",
   "language": "python",
   "name": "python3"
  },
  "language_info": {
   "codemirror_mode": {
    "name": "ipython",
    "version": 3
   },
   "file_extension": ".py",
   "mimetype": "text/x-python",
   "name": "python",
   "nbconvert_exporter": "python",
   "pygments_lexer": "ipython3",
   "version": "3.6.13"
  }
 },
 "nbformat": 4,
 "nbformat_minor": 5
}
