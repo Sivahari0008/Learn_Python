{
 "cells": [
  {
   "cell_type": "code",
   "execution_count": null,
   "id": "745af1cd",
   "metadata": {},
   "outputs": [],
   "source": [
    "class car:  \n",
    "    def __init__(self,modelname, year):  \n",
    "        self.modelname = modelname  \n",
    "        self.year = year  \n",
    "    def display(self):  \n",
    "        print(self.modelname,self.year)  \n",
    "  \n",
    "c1 = car(\"Toyota\", 2016)  \n",
    "c1.display()  "
   ]
  },
  {
   "cell_type": "code",
   "execution_count": null,
   "id": "7f835f91",
   "metadata": {},
   "outputs": [],
   "source": [
    "class car:\n",
    "    def __init__(self,Modelname,year):\n",
    "        self.Modelyear = Modelname\n",
    "        self.year = year\n",
    "    def display(self):\n",
    "        return(self.Modelyear,self.year)\n",
    "c1 = car(\"toyota\",2016)\n",
    "c2 = car(\"maruti\",2019)\n",
    "c2.display()"
   ]
  },
  {
   "cell_type": "code",
   "execution_count": null,
   "id": "77d91cff",
   "metadata": {},
   "outputs": [],
   "source": [
    "class Employee:    \n",
    "    id = 10   \n",
    "    name = \"Devansh\"    \n",
    "    def display (self):    \n",
    "        print(self.id,self.name)\n",
    "emp = Employee()\n",
    "emp.display()"
   ]
  },
  {
   "cell_type": "code",
   "execution_count": null,
   "id": "dd4b851f",
   "metadata": {},
   "outputs": [],
   "source": [
    "class Employee:    \n",
    "    id = 10   \n",
    "    name = \"Devansh\"    \n",
    "    def display (self):    \n",
    "        print(self.id,self.name)\n",
    "emp = Employee()\n",
    "emp.display()\n",
    "del emp.id\n",
    "# Deleting the object itself  \n",
    "del emp"
   ]
  },
  {
   "cell_type": "code",
   "execution_count": null,
   "id": "64b128e3",
   "metadata": {},
   "outputs": [],
   "source": [
    "class number_object(object):\n",
    "    def __init__(self, number):\n",
    "        self.number = number\n",
    "\n",
    "object_0 =  number_object(\"audi\")\n",
    "object_1 =  number_object(1)\n",
    "object_2 =  number_object(2)\n",
    "\n",
    "\n",
    "object_list = [object_0, object_1, object_2]\n",
    "\n",
    "for obj in object_list:\n",
    "     print(obj.number)"
   ]
  },
  {
   "cell_type": "code",
   "execution_count": 8,
   "id": "9187cebe",
   "metadata": {},
   "outputs": [
    {
     "name": "stdout",
     "output_type": "stream",
     "text": [
      "wap car: lambo price: 2332000 2045 french\n"
     ]
    }
   ],
   "source": [
    "class cars():\n",
    "    def __init__(self,car,price,year,make):\n",
    "        self.car = car\n",
    "        self.price = price\n",
    "        self.year = year\n",
    "        self.make = make\n",
    "audi = cars(\"audi\",100000,2017,\"german\")\n",
    "b = cars(\"benz\",150000,2015,\"italian\")\n",
    "c = cars(\"lambo\",2332000,2045,\"french\")\n",
    "\n",
    "list = [audi,b,c]\n",
    "\n",
    "for i in list:\n",
    "    #print(i.car,i.price,i.year,i.make)\n",
    "    if i == c:\n",
    "        print(\"wap\",\"car:\",i.car,\"price:\",i.price,i.year,i.make)"
   ]
  },
  {
   "cell_type": "code",
   "execution_count": 10,
   "id": "e2bf1174",
   "metadata": {},
   "outputs": [
    {
     "name": "stdout",
     "output_type": "stream",
     "text": [
      "Sorted array is:\n",
      " 11  12  22  25  34  64  90 "
     ]
    }
   ],
   "source": [
    "def bubbleSort(arr):\n",
    "    n = len(arr)\n",
    "  \n",
    "    # Traverse through all array elements\n",
    "    for i in range(n-1):\n",
    "    # range(n) also work but outer loop will repeat one time more than needed.\n",
    "  \n",
    "        # Last i elements are already in place\n",
    "        for j in range(0, n-i-1):\n",
    "  \n",
    "            # traverse the array from 0 to n-i-1\n",
    "            # Swap if the element found is greater\n",
    "            # than the next element\n",
    "            if arr[j] > arr[j + 1] :\n",
    "                arr[j], arr[j + 1] = arr[j + 1], arr[j]\n",
    "  \n",
    "# Driver code to test above\n",
    "arr = [64, 34, 25, 12, 22, 11, 90]\n",
    "  \n",
    "bubbleSort(arr)\n",
    "  \n",
    "print (\"Sorted array is:\")\n",
    "for i in range(len(arr)):\n",
    "    print (\"% d\" % arr[i],end = \" \"), "
   ]
  },
  {
   "cell_type": "code",
   "execution_count": 19,
   "id": "195a5451",
   "metadata": {},
   "outputs": [
    {
     "name": "stdout",
     "output_type": "stream",
     "text": [
      "5\n",
      "23\n",
      "45\n",
      "67\n",
      "12\n",
      "34\n"
     ]
    },
    {
     "data": {
      "text/plain": [
       "[12, 23, 34, 45, 67]"
      ]
     },
     "execution_count": 19,
     "metadata": {},
     "output_type": "execute_result"
    }
   ],
   "source": [
    "def bubble(arr):\n",
    "    a = len(arr)\n",
    "    for i in range(0,a-1):\n",
    "        for j in range(0,a-i-1):\n",
    "            if arr[j]>arr[j+1]:\n",
    "                arr[j],arr[j+1] = arr[j+1],arr[j]\n",
    "    return arr\n",
    "arr = []\n",
    "for m in range(int(input())):\n",
    "    n = int(input())\n",
    "    arr.append(n)\n",
    "bubble(arr)                "
   ]
  },
  {
   "cell_type": "code",
   "execution_count": null,
   "id": "0fec63fb",
   "metadata": {},
   "outputs": [],
   "source": []
  }
 ],
 "metadata": {
  "kernelspec": {
   "display_name": "Python 3",
   "language": "python",
   "name": "python3"
  },
  "language_info": {
   "codemirror_mode": {
    "name": "ipython",
    "version": 3
   },
   "file_extension": ".py",
   "mimetype": "text/x-python",
   "name": "python",
   "nbconvert_exporter": "python",
   "pygments_lexer": "ipython3",
   "version": "3.6.13"
  }
 },
 "nbformat": 4,
 "nbformat_minor": 5
}
