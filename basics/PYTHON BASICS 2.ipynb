{
 "cells": [
  {
   "cell_type": "code",
   "execution_count": 1,
   "id": "e3133422",
   "metadata": {},
   "outputs": [
    {
     "name": "stdout",
     "output_type": "stream",
     "text": [
      "['apple', 'banana', 'kiwi', 'pineapples', 'oranges', 'grapes']\n",
      "['apple', 'banana', 'kiwi', 'pineapples', 'oranges', 'grapes', 'jordan', 'hussy']\n",
      "t= ['apple', 'banana', 'kiwi', 'pineapples', 'oranges', 'grapes', 'jordan', 'hussy']\n",
      "['apple', 'banana', 'pineapples', 'oranges', 'grapes', 'jordan']\n"
     ]
    }
   ],
   "source": [
    "# Problem 1 Create an array with the following values: apples, kiwi, pineapples, oranges and grapes\n",
    "\n",
    "fruit = [\"apple\",\"banana\",\"kiwi\",\"pineapples\",\"oranges\",\"grapes\"]\n",
    "print (fruit)\n",
    "name = [\"jordan\",\"hussy\"]\n",
    "fruit.extend(name)\n",
    "print (fruit)\n",
    "t = fruit.copy()\n",
    "print (\"t=\",t)\n",
    "fruit.remove(\"hussy\")\n",
    "fruit.pop(2)\n",
    "print(fruit)\n"
   ]
  },
  {
   "cell_type": "code",
   "execution_count": 23,
   "id": "8d10af79",
   "metadata": {},
   "outputs": [
    {
     "name": "stdout",
     "output_type": "stream",
     "text": [
      "<class '__main__.myclass'>\n",
      "5\n"
     ]
    }
   ],
   "source": [
    "class myclass:\n",
    "    x = 5\n",
    "print (myclass) \n",
    "\n",
    "a1=myclass()\n",
    "print(a1.x)"
   ]
  },
  {
   "cell_type": "code",
   "execution_count": 42,
   "id": "30f647be",
   "metadata": {},
   "outputs": [
    {
     "name": "stdout",
     "output_type": "stream",
     "text": [
      "josh 25\n"
     ]
    }
   ],
   "source": [
    "class person:\n",
    "    def __init__(self, name, age):\n",
    "        self.name = name\n",
    "        self.age = age\n",
    "        \n",
    "    def myfunc(self):\n",
    "        print(self.name,self.age)\n",
    "                    \n",
    "\n",
    "p1 = person(\"josh\",25)\n",
    "p1.myfunc()"
   ]
  },
  {
   "cell_type": "code",
   "execution_count": 43,
   "id": "d3c1e960",
   "metadata": {},
   "outputs": [
    {
     "name": "stdout",
     "output_type": "stream",
     "text": [
      "mike 34\n"
     ]
    }
   ],
   "source": [
    "class student(person):\n",
    "    pass\n",
    "x = student (\"mike\",34)\n",
    "x.myfunc()"
   ]
  },
  {
   "cell_type": "code",
   "execution_count": 28,
   "id": "b2632375",
   "metadata": {},
   "outputs": [
    {
     "name": "stdout",
     "output_type": "stream",
     "text": [
      "banana\n",
      "monkey\n"
     ]
    }
   ],
   "source": [
    "class func:\n",
    "    def forloop(*list):\n",
    "        for i in list:\n",
    "            if i!=\"apple\":\n",
    "                pass\n",
    "                print (i)\n",
    "forloop(\"apple\",\"banana\",\"monkey\")"
   ]
  },
  {
   "cell_type": "code",
   "execution_count": 26,
   "id": "563c377a",
   "metadata": {},
   "outputs": [
    {
     "name": "stdout",
     "output_type": "stream",
     "text": [
      "mango\n",
      "kiwi\n"
     ]
    }
   ],
   "source": [
    "class bun(func):\n",
    "    pass\n",
    "forloop(\"mango\",\"apple\",\"kiwi\")"
   ]
  },
  {
   "cell_type": "code",
   "execution_count": 29,
   "id": "18160e8c",
   "metadata": {},
   "outputs": [
    {
     "name": "stdout",
     "output_type": "stream",
     "text": [
      "ask\n",
      "head\n",
      "leg\n"
     ]
    }
   ],
   "source": [
    "tuple = (\"ask\",\"head\",\"leg\")\n",
    "x = iter(tuple)\n",
    "print(next(x))\n",
    "print(next(x))\n",
    "print(next(x))"
   ]
  },
  {
   "cell_type": "code",
   "execution_count": 1,
   "id": "1028be49",
   "metadata": {},
   "outputs": [
    {
     "name": "stdout",
     "output_type": "stream",
     "text": [
      "1\n",
      "2\n",
      "3\n"
     ]
    }
   ],
   "source": [
    "class lesson:\n",
    "    def __iter__(self):\n",
    "        self.a = 1\n",
    "        return self\n",
    "    def __next__(self):\n",
    "        x = self.a        \n",
    "        self.a += 1\n",
    "        return x\n",
    "mylobby = lesson()\n",
    "myiter = iter(mylobby)\n",
    "print(next(myiter))\n",
    "print(next(myiter))\n",
    "print(next(myiter))"
   ]
  },
  {
   "cell_type": "code",
   "execution_count": 9,
   "id": "d64b9cff",
   "metadata": {},
   "outputs": [
    {
     "name": "stdout",
     "output_type": "stream",
     "text": [
      "1\n",
      "2\n",
      "3\n",
      "4\n",
      "5\n",
      "6\n",
      "7\n",
      "8\n",
      "9\n",
      "10\n",
      "11\n",
      "12\n",
      "13\n",
      "14\n",
      "15\n",
      "16\n",
      "17\n",
      "18\n",
      "19\n"
     ]
    },
    {
     "ename": "TypeError",
     "evalue": "exceptions must derive from BaseException",
     "output_type": "error",
     "traceback": [
      "\u001b[1;31m---------------------------------------------------------------------------\u001b[0m",
      "\u001b[1;31mTypeError\u001b[0m                                 Traceback (most recent call last)",
      "\u001b[1;32m<ipython-input-9-f8205689a393>\u001b[0m in \u001b[0;36m<module>\u001b[1;34m\u001b[0m\n\u001b[0;32m     13\u001b[0m \u001b[0mmyiter\u001b[0m \u001b[1;33m=\u001b[0m \u001b[0miter\u001b[0m\u001b[1;33m(\u001b[0m\u001b[0mmylobby\u001b[0m\u001b[1;33m)\u001b[0m\u001b[1;33m\u001b[0m\u001b[1;33m\u001b[0m\u001b[0m\n\u001b[0;32m     14\u001b[0m \u001b[0merror\u001b[0m \u001b[1;33m=\u001b[0m \u001b[1;36m0\u001b[0m\u001b[1;33m\u001b[0m\u001b[1;33m\u001b[0m\u001b[0m\n\u001b[1;32m---> 15\u001b[1;33m \u001b[1;32mfor\u001b[0m \u001b[0mz\u001b[0m \u001b[1;32min\u001b[0m \u001b[0mmyiter\u001b[0m\u001b[1;33m:\u001b[0m\u001b[1;33m\u001b[0m\u001b[1;33m\u001b[0m\u001b[0m\n\u001b[0m\u001b[0;32m     16\u001b[0m     \u001b[0mprint\u001b[0m\u001b[1;33m(\u001b[0m\u001b[0mz\u001b[0m\u001b[1;33m)\u001b[0m\u001b[1;33m\u001b[0m\u001b[1;33m\u001b[0m\u001b[0m\n",
      "\u001b[1;32m<ipython-input-9-f8205689a393>\u001b[0m in \u001b[0;36m__next__\u001b[1;34m(self)\u001b[0m\n\u001b[0;32m      9\u001b[0m             \u001b[1;32mreturn\u001b[0m \u001b[0mz\u001b[0m\u001b[1;33m\u001b[0m\u001b[1;33m\u001b[0m\u001b[0m\n\u001b[0;32m     10\u001b[0m         \u001b[1;32melse\u001b[0m\u001b[1;33m:\u001b[0m\u001b[1;33m\u001b[0m\u001b[1;33m\u001b[0m\u001b[0m\n\u001b[1;32m---> 11\u001b[1;33m             \u001b[1;32mraise\u001b[0m \u001b[0merror\u001b[0m\u001b[1;33m\u001b[0m\u001b[1;33m\u001b[0m\u001b[0m\n\u001b[0m\u001b[0;32m     12\u001b[0m \u001b[0mmylobby\u001b[0m \u001b[1;33m=\u001b[0m \u001b[0mlesson\u001b[0m\u001b[1;33m(\u001b[0m\u001b[1;33m)\u001b[0m\u001b[1;33m\u001b[0m\u001b[1;33m\u001b[0m\u001b[0m\n\u001b[0;32m     13\u001b[0m \u001b[0mmyiter\u001b[0m \u001b[1;33m=\u001b[0m \u001b[0miter\u001b[0m\u001b[1;33m(\u001b[0m\u001b[0mmylobby\u001b[0m\u001b[1;33m)\u001b[0m\u001b[1;33m\u001b[0m\u001b[1;33m\u001b[0m\u001b[0m\n",
      "\u001b[1;31mTypeError\u001b[0m: exceptions must derive from BaseException"
     ]
    }
   ],
   "source": [
    "class lesson:\n",
    "    def __iter__(self):\n",
    "        self.a = 1\n",
    "        return self\n",
    "    def __next__(self):\n",
    "        if self.a<20:\n",
    "            z = self.a        \n",
    "            self.a += 1\n",
    "            return z\n",
    "        else: \n",
    "            raise \"me\"\n",
    "mylobby = lesson()\n",
    "myiter = iter(mylobby)\n",
    "for z in myiter:\n",
    "    print(z)"
   ]
  },
  {
   "cell_type": "code",
   "execution_count": 1,
   "id": "bd3ea5b1",
   "metadata": {},
   "outputs": [
    {
     "name": "stdout",
     "output_type": "stream",
     "text": [
      "300\n",
      "300\n",
      "300\n"
     ]
    }
   ],
   "source": [
    "# 01. Local Scope Coding Exercise:\n",
    "# 1. Create Function myfunc()\n",
    "# 2. Create Variable x = 300\n",
    "# 3. Print X\n",
    "# 4. Call myfunc()\n",
    "\n",
    "def myfunc():\n",
    "    x = 300\n",
    "    print (x)\n",
    "myfunc()\n",
    "    \n",
    "\n",
    "\n",
    "\n",
    "\n",
    "\n",
    "# 02. Global Scope Coding Exercise:\n",
    "# 1. X=300\n",
    "# 2. Create Function myfunc()\n",
    "# 3. Print X\n",
    "# 4. Call myfunc()\n",
    "# 5. Print x\n",
    "x = 300\n",
    "def myfunc():\n",
    "    print (x)\n",
    "myfunc()\n",
    "print (x)"
   ]
  },
  {
   "cell_type": "code",
   "execution_count": 5,
   "id": "1b0d5557",
   "metadata": {},
   "outputs": [
    {
     "name": "stdout",
     "output_type": "stream",
     "text": [
      "2021-06-14 15:32:39.145366\n"
     ]
    }
   ],
   "source": [
    "import datetime\n",
    "\n",
    "x = datetime.datetime.now()\n",
    "print(x)"
   ]
  },
  {
   "cell_type": "code",
   "execution_count": 19,
   "id": "2557c929",
   "metadata": {},
   "outputs": [
    {
     "name": "stdout",
     "output_type": "stream",
     "text": [
      "2021\n",
      "14\n",
      "15:32:39\n",
      "06/14/21\n",
      "Monday\n"
     ]
    }
   ],
   "source": [
    "import datetime\n",
    "y = datetime.datetime.now()\n",
    "print(y.year)\n",
    "print(y.day)\n",
    "print(x.strftime(\"%T\"))\n",
    "print(x.strftime(\"%D\"))\n",
    "print(x.strftime(\"%A\"))"
   ]
  },
  {
   "cell_type": "code",
   "execution_count": 20,
   "id": "b4c7d111",
   "metadata": {},
   "outputs": [
    {
     "name": "stdout",
     "output_type": "stream",
     "text": [
      "1\n",
      "6\n"
     ]
    }
   ],
   "source": [
    "x = min(1,2,3)\n",
    "y = max(4,5,6)\n",
    "print(x)\n",
    "print(y)"
   ]
  },
  {
   "cell_type": "code",
   "execution_count": 27,
   "id": "00ca89c5",
   "metadata": {},
   "outputs": [
    {
     "name": "stdout",
     "output_type": "stream",
     "text": [
      "625\n",
      "8.97\n",
      "64\n",
      "8.0\n"
     ]
    }
   ],
   "source": [
    "x = pow(5,4)\n",
    "print(x)\n",
    "y = abs(-8.97)\n",
    "print(y)\n",
    "z =  lambda a,b: pow(a,b)\n",
    "print (z(4,3))\n",
    " \n",
    "import math\n",
    "j = math.sqrt(64)\n",
    "print (j)"
   ]
  },
  {
   "cell_type": "code",
   "execution_count": null,
   "id": "33a8e1bc",
   "metadata": {},
   "outputs": [],
   "source": []
  }
 ],
 "metadata": {
  "kernelspec": {
   "display_name": "Python 3",
   "language": "python",
   "name": "python3"
  },
  "language_info": {
   "codemirror_mode": {
    "name": "ipython",
    "version": 3
   },
   "file_extension": ".py",
   "mimetype": "text/x-python",
   "name": "python",
   "nbconvert_exporter": "python",
   "pygments_lexer": "ipython3",
   "version": "3.6.13"
  }
 },
 "nbformat": 4,
 "nbformat_minor": 5
}
