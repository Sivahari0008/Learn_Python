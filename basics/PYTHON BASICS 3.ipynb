{
 "cells": [
  {
   "cell_type": "code",
   "execution_count": 1,
   "id": "ed03032c",
   "metadata": {},
   "outputs": [
    {
     "name": "stdout",
     "output_type": "stream",
     "text": [
      "25\n"
     ]
    }
   ],
   "source": [
    "import json\n",
    "x = '{\"name\":\"john\",\"age\":\"25\"}'\n",
    "y = json.loads(x)\n",
    "print(y[\"age\"])"
   ]
  },
  {
   "cell_type": "code",
   "execution_count": 9,
   "id": "9b116280",
   "metadata": {},
   "outputs": [
    {
     "name": "stdout",
     "output_type": "stream",
     "text": [
      "exist\n"
     ]
    }
   ],
   "source": [
    "import re \n",
    "\n",
    "txt = \"hello world python is awesome\"\n",
    "x = re.search(\"hello.*awesome$\",txt)\n",
    "if x:\n",
    "    print(\"exist\")\n",
    "else:\n",
    "    print(\"does not exist\")"
   ]
  },
  {
   "cell_type": "code",
   "execution_count": 10,
   "id": "86f6f582",
   "metadata": {},
   "outputs": [
    {
     "name": "stdout",
     "output_type": "stream",
     "text": [
      "['ai', 'ai']\n"
     ]
    }
   ],
   "source": [
    "import re\n",
    "txt = \"the rain in spain\"\n",
    "y  = re.findall(\"ai\",txt)\n",
    "print(y)"
   ]
  },
  {
   "cell_type": "code",
   "execution_count": 15,
   "id": "5f873959",
   "metadata": {},
   "outputs": [
    {
     "name": "stdout",
     "output_type": "stream",
     "text": [
      "5\n"
     ]
    }
   ],
   "source": [
    "import re\n",
    "txt = \"here i come\"\n",
    "z = re.search(\"i\",txt)\n",
    "print(z.start())"
   ]
  },
  {
   "cell_type": "code",
   "execution_count": 16,
   "id": "1c26bf3f",
   "metadata": {},
   "outputs": [
    {
     "name": "stdout",
     "output_type": "stream",
     "text": [
      "['the', 'rain', 'in', 'spain']\n"
     ]
    }
   ],
   "source": [
    "import re\n",
    "txt = \"the rain in spain\"\n",
    "y  = re.split(\"\\s\",txt)\n",
    "print(y)"
   ]
  },
  {
   "cell_type": "code",
   "execution_count": 2,
   "id": "663d3219",
   "metadata": {},
   "outputs": [
    {
     "ename": "ModuleNotFoundError",
     "evalue": "No module named 'camelcase'",
     "output_type": "error",
     "traceback": [
      "\u001b[1;31m---------------------------------------------------------------------------\u001b[0m",
      "\u001b[1;31mModuleNotFoundError\u001b[0m                       Traceback (most recent call last)",
      "\u001b[1;32m<ipython-input-2-4320b64a6f71>\u001b[0m in \u001b[0;36m<module>\u001b[1;34m\u001b[0m\n\u001b[1;32m----> 1\u001b[1;33m \u001b[1;32mimport\u001b[0m \u001b[0mcamelcase\u001b[0m\u001b[1;33m\u001b[0m\u001b[1;33m\u001b[0m\u001b[0m\n\u001b[0m\u001b[0;32m      2\u001b[0m \u001b[0mc\u001b[0m \u001b[1;33m=\u001b[0m \u001b[0mcamelcase\u001b[0m\u001b[1;33m.\u001b[0m\u001b[0mCamelCase\u001b[0m\u001b[1;33m(\u001b[0m\u001b[1;33m)\u001b[0m\u001b[1;33m\u001b[0m\u001b[1;33m\u001b[0m\u001b[0m\n\u001b[0;32m      3\u001b[0m \u001b[0mtxt\u001b[0m \u001b[1;33m=\u001b[0m \u001b[1;34m\"hello world\"\u001b[0m\u001b[1;33m\u001b[0m\u001b[1;33m\u001b[0m\u001b[0m\n\u001b[0;32m      4\u001b[0m \u001b[0mprint\u001b[0m\u001b[1;33m(\u001b[0m\u001b[0mc\u001b[0m\u001b[1;33m.\u001b[0m\u001b[0mhump\u001b[0m\u001b[1;33m(\u001b[0m\u001b[0mtxt\u001b[0m\u001b[1;33m)\u001b[0m\u001b[1;33m)\u001b[0m\u001b[1;33m\u001b[0m\u001b[1;33m\u001b[0m\u001b[0m\n",
      "\u001b[1;31mModuleNotFoundError\u001b[0m: No module named 'camelcase'"
     ]
    }
   ],
   "source": [
    "import camelcase\n",
    "c = camelcase.CamelCase()\n",
    "txt = \"hello world\"\n",
    "print(c.hump(txt))"
   ]
  },
  {
   "cell_type": "code",
   "execution_count": 4,
   "id": "bc26031a",
   "metadata": {},
   "outputs": [
    {
     "name": "stdout",
     "output_type": "stream",
     "text": [
      "hello\n",
      "end of code\n"
     ]
    }
   ],
   "source": [
    "try:\n",
    "    print(\"hello\")\n",
    "except:\n",
    "    print(\"except sequence\")\n",
    "finally:\n",
    "    print(\"end of code\")"
   ]
  },
  {
   "cell_type": "code",
   "execution_count": 21,
   "id": "8af4f5f5",
   "metadata": {},
   "outputs": [
    {
     "name": "stdout",
     "output_type": "stream",
     "text": [
      "usernamehi\n",
      "your username is hi\n"
     ]
    }
   ],
   "source": [
    "username = input(\"username\")\n",
    "print (\"your username is \" + username)"
   ]
  },
  {
   "cell_type": "code",
   "execution_count": 23,
   "id": "df92e233",
   "metadata": {},
   "outputs": [
    {
     "name": "stdout",
     "output_type": "stream",
     "text": [
      "the rate is 49.00 rupe\n"
     ]
    }
   ],
   "source": [
    "rate = 49\n",
    "txt = \"the rate is {:.2f} rupe\"\n",
    "print(txt.format(rate))"
   ]
  },
  {
   "cell_type": "code",
   "execution_count": 27,
   "id": "ea31ab91",
   "metadata": {},
   "outputs": [
    {
     "name": "stdout",
     "output_type": "stream",
     "text": [
      "my car is ford. it is a mustang\n"
     ]
    }
   ],
   "source": [
    "txt = \"my car is {carname}. it is a {model}\"\n",
    "print(txt.format(carname = \"ford\",model = \"mustang\"))"
   ]
  },
  {
   "cell_type": "code",
   "execution_count": 33,
   "id": "e9716c25",
   "metadata": {},
   "outputs": [
    {
     "name": "stdout",
     "output_type": "stream",
     "text": [
      "['hello', ' world', ' mike']\n"
     ]
    }
   ],
   "source": [
    "a = \"hello, world, mike\"\n",
    "b = a.split(',')\n",
    "print (b)\n",
    "#for i in b:\n",
    "    "
   ]
  },
  {
   "cell_type": "code",
   "execution_count": 4,
   "id": "d20744ab",
   "metadata": {},
   "outputs": [
    {
     "name": "stdout",
     "output_type": "stream",
     "text": [
      "b'python'\n",
      "python\n"
     ]
    }
   ],
   "source": [
    "txt = \"python\"\n",
    "t = txt.encode()\n",
    "u = t.decode()\n",
    "print(t)\n",
    "print(u)"
   ]
  },
  {
   "cell_type": "code",
   "execution_count": 9,
   "id": "eb0d9024",
   "metadata": {},
   "outputs": [
    {
     "name": "stdout",
     "output_type": "stream",
     "text": [
      "a\n",
      "b\n",
      "c\n"
     ]
    },
    {
     "data": {
      "text/plain": [
       "[None, None, None]"
      ]
     },
     "execution_count": 9,
     "metadata": {},
     "output_type": "execute_result"
    }
   ],
   "source": [
    "list = [\"a\",\"b\",\"c\"]\n",
    "[print(i) for i in list]"
   ]
  },
  {
   "cell_type": "code",
   "execution_count": 15,
   "id": "0e098d7c",
   "metadata": {},
   "outputs": [
    {
     "name": "stdout",
     "output_type": "stream",
     "text": [
      "mark\n",
      "before\n",
      "[None, None]\n"
     ]
    }
   ],
   "source": [
    "a = [\"bench\",\"mark\",\"before\"]\n",
    "b = [print(x) for x in a if \"r\" in x]\n",
    "print(b)"
   ]
  },
  {
   "cell_type": "code",
   "execution_count": 18,
   "id": "49361364",
   "metadata": {},
   "outputs": [
    {
     "name": "stdout",
     "output_type": "stream",
     "text": [
      "['facebook', 'microsoft']\n"
     ]
    }
   ],
   "source": [
    "list = [\"google\",\"facebook\",\"microsoft\"]\n",
    "neew = [x for x in list if x!=\"google\"]\n",
    "print(neew)"
   ]
  },
  {
   "cell_type": "code",
   "execution_count": 21,
   "id": "956de56d",
   "metadata": {},
   "outputs": [
    {
     "name": "stdout",
     "output_type": "stream",
     "text": [
      "[50, 40, 30, 1, 100]\n"
     ]
    }
   ],
   "source": [
    "def func(n):\n",
    "    return abs(n-50)\n",
    "list = [40,30,100,1,50]\n",
    "list.sort(key = func)\n",
    "print (list)"
   ]
  },
  {
   "cell_type": "code",
   "execution_count": 6,
   "id": "ff1d1125",
   "metadata": {},
   "outputs": [
    {
     "name": "stdout",
     "output_type": "stream",
     "text": [
      "('gooo', 'insta', 'fb', 'quora')\n",
      "('insta', 'fb', 'quora')\n",
      "('insta', 'fb', 'quora')\n"
     ]
    }
   ],
   "source": [
    "x = (\"gooo\",\"insta\",\"fb\")\n",
    "y = list(x)\n",
    "y.append(\"quora\")\n",
    "x = tuple(y)\n",
    "print(x)\n",
    "z = list(x)\n",
    "z.remove(\"gooo\")\n",
    "x = tuple(z)\n",
    "print (x)\n",
    "#del x\n",
    "print (x)"
   ]
  },
  {
   "cell_type": "code",
   "execution_count": 7,
   "id": "b7e3bc66",
   "metadata": {},
   "outputs": [
    {
     "name": "stdout",
     "output_type": "stream",
     "text": [
      "facebook\n"
     ]
    }
   ],
   "source": [
    "y = (\"google\",\"facebook\",\"microsoft\")\n",
    "(green,yellow,blue) = y\n",
    "print(yellow)"
   ]
  },
  {
   "cell_type": "code",
   "execution_count": 1,
   "id": "06597f14",
   "metadata": {},
   "outputs": [
    {
     "name": "stdout",
     "output_type": "stream",
     "text": [
      "microsoft\n"
     ]
    }
   ],
   "source": [
    "z= (\"google\",\"facebook\",\"microsoft\")\n",
    "(green,*twitter,blue) = z\n",
    "print(blue)"
   ]
  },
  {
   "cell_type": "code",
   "execution_count": 2,
   "id": "66dcc91e",
   "metadata": {},
   "outputs": [
    {
     "name": "stdout",
     "output_type": "stream",
     "text": [
      "{1, 2, 3, 'c', 'a', 'b'}\n"
     ]
    }
   ],
   "source": [
    "set = {\"a\",\"b\",\"c\"}\n",
    "t = {1,2,3}\n",
    "set3 = set.union(t)\n",
    "print(set3)"
   ]
  },
  {
   "cell_type": "code",
   "execution_count": 5,
   "id": "4149b265",
   "metadata": {},
   "outputs": [
    {
     "name": "stdout",
     "output_type": "stream",
     "text": [
      "{'de', 'ab'}\n"
     ]
    }
   ],
   "source": [
    "s = {\"ab\",\"cd\",\"de\"}\n",
    "d = {\"ab\",\"gh\",\"de\"}\n",
    "s.intersection_update(d)\n",
    "print(s)"
   ]
  },
  {
   "cell_type": "code",
   "execution_count": 7,
   "id": "4d5b6e95",
   "metadata": {},
   "outputs": [
    {
     "name": "stdout",
     "output_type": "stream",
     "text": [
      "{'de', 'ab'}\n"
     ]
    }
   ],
   "source": [
    "s = {\"ab\",\"cd\",\"de\"}\n",
    "d = {\"ab\",\"gh\",\"de\"}\n",
    "r = s.intersection(d)\n",
    "print(r)"
   ]
  },
  {
   "cell_type": "code",
   "execution_count": 12,
   "id": "c626c0a2",
   "metadata": {},
   "outputs": [
    {
     "name": "stdout",
     "output_type": "stream",
     "text": [
      "dict_keys(['company', 'year', 'model'])\n",
      "dict_keys(['company', 'year', 'model', 'color'])\n"
     ]
    }
   ],
   "source": [
    "dict = {\"company\":\"apple\",\n",
    "       \"year\":2020,\n",
    "       \"model\": \"mac\"}\n",
    "print(dict.keys())\n",
    "dict [\"color\"] = \"blue\"\n",
    "print(dict.keys())"
   ]
  },
  {
   "cell_type": "code",
   "execution_count": null,
   "id": "74b924f8",
   "metadata": {},
   "outputs": [],
   "source": []
  }
 ],
 "metadata": {
  "kernelspec": {
   "display_name": "Python 3",
   "language": "python",
   "name": "python3"
  },
  "language_info": {
   "codemirror_mode": {
    "name": "ipython",
    "version": 3
   },
   "file_extension": ".py",
   "mimetype": "text/x-python",
   "name": "python",
   "nbconvert_exporter": "python",
   "pygments_lexer": "ipython3",
   "version": "3.6.13"
  }
 },
 "nbformat": 4,
 "nbformat_minor": 5
}
