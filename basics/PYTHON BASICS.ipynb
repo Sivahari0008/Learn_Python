{
 "cells": [
  {
   "cell_type": "code",
   "execution_count": 1,
   "id": "157700a8",
   "metadata": {},
   "outputs": [
    {
     "name": "stdout",
     "output_type": "stream",
     "text": [
      "welcome to my tutorial\n"
     ]
    }
   ],
   "source": [
    "print(\"welcome to my tutorial\")"
   ]
  },
  {
   "cell_type": "code",
   "execution_count": 2,
   "id": "30b22cbd",
   "metadata": {},
   "outputs": [
    {
     "name": "stdout",
     "output_type": "stream",
     "text": [
      "27.3 8j\n",
      "(27.3+8j)\n"
     ]
    }
   ],
   "source": [
    "#datatypes\n",
    "a = 5 #integer\n",
    "b = 22.3 #float\n",
    "c = 8j #complex\n",
    "d = \"hello\"\n",
    "print (a+b,c)\n",
    "print (a+b+c)"
   ]
  },
  {
   "cell_type": "code",
   "execution_count": 3,
   "id": "8b6bd492",
   "metadata": {},
   "outputs": [
    {
     "ename": "TypeError",
     "evalue": "unsupported operand type(s) for +: 'complex' and 'str'",
     "output_type": "error",
     "traceback": [
      "\u001b[1;31m---------------------------------------------------------------------------\u001b[0m",
      "\u001b[1;31mTypeError\u001b[0m                                 Traceback (most recent call last)",
      "\u001b[1;32m<ipython-input-3-e6503964f947>\u001b[0m in \u001b[0;36m<module>\u001b[1;34m\u001b[0m\n\u001b[1;32m----> 1\u001b[1;33m \u001b[0mprint\u001b[0m \u001b[1;33m(\u001b[0m\u001b[0ma\u001b[0m\u001b[1;33m+\u001b[0m\u001b[0mb\u001b[0m\u001b[1;33m+\u001b[0m\u001b[0mc\u001b[0m\u001b[1;33m+\u001b[0m\u001b[0md\u001b[0m\u001b[1;33m)\u001b[0m \u001b[1;31m#error because we can't add str to numbers\u001b[0m\u001b[1;33m\u001b[0m\u001b[1;33m\u001b[0m\u001b[0m\n\u001b[0m",
      "\u001b[1;31mTypeError\u001b[0m: unsupported operand type(s) for +: 'complex' and 'str'"
     ]
    }
   ],
   "source": [
    "print (a+b+c+d) #error because we can't add str to numbers"
   ]
  },
  {
   "cell_type": "code",
   "execution_count": null,
   "id": "ac3b9926",
   "metadata": {},
   "outputs": [],
   "source": [
    "e = [\"list\",\"if\", \"found in square brackets\",6,8j,range(10)] # list example\n",
    "print(e)\n",
    "f = (\"tuples\",\"round brackets\") # tuple they are non editable\n",
    "print (f)\n",
    "g = ((\"super\",\"set\"))\n",
    "print (g)\n",
    "h = {'name': \"siva\", 'role' :\"programmer\"} #dictionary example\n",
    "print (h)\n",
    "print(type(h))"
   ]
  },
  {
   "cell_type": "code",
   "execution_count": null,
   "id": "cab91e70",
   "metadata": {},
   "outputs": [],
   "source": [
    "#functions\n",
    "i = 12\n",
    "j = 11\n",
    "if i>j:\n",
    "    print (\"i is greater :\",i)"
   ]
  },
  {
   "cell_type": "code",
   "execution_count": null,
   "id": "afe37b96",
   "metadata": {},
   "outputs": [],
   "source": [
    "k = input(\"values :\") #input from user\n",
    "print (k)"
   ]
  },
  {
   "cell_type": "code",
   "execution_count": null,
   "id": "a01d9b35",
   "metadata": {},
   "outputs": [],
   "source": [
    "for l in range(1,11,2):\n",
    "    print (l)"
   ]
  },
  {
   "cell_type": "code",
   "execution_count": null,
   "id": "0e564c88",
   "metadata": {},
   "outputs": [],
   "source": [
    "fruits = [\"apple\", \"banana\"]\n",
    "\n",
    "if \"apple\" in fruits:\n",
    "\n",
    "     print(\"Yes, apple is a fruit!\")"
   ]
  },
  {
   "cell_type": "code",
   "execution_count": null,
   "id": "c85c8a02",
   "metadata": {},
   "outputs": [],
   "source": [
    "x,y = 10,5\n",
    "print(x+y)"
   ]
  },
  {
   "cell_type": "code",
   "execution_count": null,
   "id": "51ab0470",
   "metadata": {},
   "outputs": [],
   "source": [
    "i = 2\n",
    "while i<10:\n",
    "    print(i)\n",
    "    i+=1"
   ]
  },
  {
   "cell_type": "code",
   "execution_count": 4,
   "id": "6627dccf",
   "metadata": {},
   "outputs": [
    {
     "name": "stdout",
     "output_type": "stream",
     "text": [
      "0\n",
      "1\n",
      "2\n",
      "3\n",
      "4\n",
      "5\n"
     ]
    }
   ],
   "source": [
    "i = 0\n",
    "for i in range(6):\n",
    "    print(i)"
   ]
  },
  {
   "cell_type": "code",
   "execution_count": null,
   "id": "6fde1ed2",
   "metadata": {},
   "outputs": [],
   "source": [
    "i = [2,3,4,5]\n",
    "j = [6,7,8,9,10]\n",
    "for k in i:\n",
    "    for l in j:\n",
    "        print([k,l])"
   ]
  },
  {
   "cell_type": "code",
   "execution_count": 5,
   "id": "ce8d4e17",
   "metadata": {},
   "outputs": [
    {
     "name": "stdout",
     "output_type": "stream",
     "text": [
      "Hello\n",
      "Welcome\n",
      "to\n",
      "GeeksforGeeks\n"
     ]
    }
   ],
   "source": [
    "def myFun(*argv):\n",
    "    for arg in argv:\n",
    "        print (arg)\n",
    "   \n",
    "myFun('Hello', 'Welcome', 'to', 'GeeksforGeeks')"
   ]
  },
  {
   "cell_type": "code",
   "execution_count": null,
   "id": "4cd7e6b8",
   "metadata": {},
   "outputs": [],
   "source": [
    "def myfunc(*kid):\n",
    "    print (kid[0]+\" \"+kid[1])\n",
    "myfunc(\"hello\",\"welcome\")    "
   ]
  },
  {
   "cell_type": "code",
   "execution_count": null,
   "id": "8851d751",
   "metadata": {},
   "outputs": [],
   "source": [
    "def kit(*kid):\n",
    "    print(\"hello\"+\" \"+ kid[1])\n",
    "kit(\"john\",\"wick\",\"baby\")    "
   ]
  },
  {
   "cell_type": "code",
   "execution_count": null,
   "id": "f320d247",
   "metadata": {},
   "outputs": [],
   "source": [
    "def keyarg(**list):\n",
    "    for key,value in list.items():\n",
    "        print (value)\n",
    "keyarg(fname=\"don\",lname=\"jon\")        "
   ]
  },
  {
   "cell_type": "code",
   "execution_count": null,
   "id": "1752fce4",
   "metadata": {},
   "outputs": [],
   "source": [
    "def kits(child1,child2,child3):\n",
    "    print (\"child name is \"+child2)\n",
    "kits(child1=\"jim\",child2=\"baby\",child3=\"king\")    "
   ]
  },
  {
   "cell_type": "code",
   "execution_count": null,
   "id": "cafcf9dd",
   "metadata": {},
   "outputs": [],
   "source": [
    "def kittie(**cat):\n",
    "    print (cat[\"lname\"])\n",
    "kittie(fname = \"jumpy\", lname = \"jillu\")    "
   ]
  },
  {
   "cell_type": "code",
   "execution_count": null,
   "id": "3bb4518c",
   "metadata": {},
   "outputs": [],
   "source": [
    "def fit(food):\n",
    "    for i in food:\n",
    "        print(i)\n",
    "fruits = [\"apple\",\"banana\",\"mango\"]\n",
    "veg = [\"cabbage\",\"potato\",\"tomato\"]\n",
    "fit(fruits)\n",
    "fit(veg)"
   ]
  },
  {
   "cell_type": "code",
   "execution_count": null,
   "id": "847db7f0",
   "metadata": {},
   "outputs": [],
   "source": [
    "def recur(l):\n",
    "    if l>0:\n",
    "        result = l + recur(l-1)\n",
    "        print (result)\n",
    "    else:\n",
    "        result = 0\n",
    "    return (result)\n",
    "print(\"\\nrecursion\")    \n",
    "recur(10)        "
   ]
  },
  {
   "cell_type": "code",
   "execution_count": null,
   "id": "634f40f5",
   "metadata": {},
   "outputs": [],
   "source": [
    "def func(k):\n",
    "    print(k)\n",
    "func(\"Hello from a function\")"
   ]
  },
  {
   "cell_type": "code",
   "execution_count": null,
   "id": "b03e678e",
   "metadata": {},
   "outputs": [],
   "source": [
    "def my_function(fname, lname):\n",
    "    print(fname)\n",
    "my_function(fname = \"hi\", lname   = \"hello\")"
   ]
  },
  {
   "cell_type": "code",
   "execution_count": null,
   "id": "7a661094",
   "metadata": {},
   "outputs": [],
   "source": [
    "def mathe(x):\n",
    "    return x+5\n",
    "mathe(5)"
   ]
  },
  {
   "cell_type": "code",
   "execution_count": null,
   "id": "a83942b1",
   "metadata": {},
   "outputs": [],
   "source": [
    "def my_function(*kids):\n",
    "    print(\"The youngest child is \" + kids[2])\n",
    "my_function(\"h\",\"j\",\"k\")"
   ]
  },
  {
   "cell_type": "code",
   "execution_count": null,
   "id": "67a1f677",
   "metadata": {},
   "outputs": [],
   "source": [
    "def my_function(**kid):\n",
    "    print(\"His last name is \" + kid[\"lname\"])\n",
    "my_function(fname = \"f\" , lname = \"g\")"
   ]
  },
  {
   "cell_type": "code",
   "execution_count": null,
   "id": "091865b6",
   "metadata": {},
   "outputs": [],
   "source": [
    "x = lambda a,b : b+a+10\n",
    "print(x(5,6))"
   ]
  },
  {
   "cell_type": "code",
   "execution_count": null,
   "id": "7481b963",
   "metadata": {},
   "outputs": [],
   "source": [
    "def myfunc(x):\n",
    "    return lambda a  : a*x\n",
    "mydoubler = myfunc(4)\n",
    "print(mydoubler(11))"
   ]
  },
  {
   "cell_type": "code",
   "execution_count": null,
   "id": "0f3004fe",
   "metadata": {},
   "outputs": [],
   "source": [
    "x = lambda a : a\n",
    "print(x)"
   ]
  },
  {
   "cell_type": "code",
   "execution_count": null,
   "id": "a003bf20",
   "metadata": {},
   "outputs": [],
   "source": [
    "a = [1,25,45,43,234,67]\n",
    "a.reverse()\n",
    "print(a)"
   ]
  },
  {
   "cell_type": "code",
   "execution_count": null,
   "id": "9eb0195b",
   "metadata": {},
   "outputs": [],
   "source": [
    "a = [1,25,45,43,234,67]\n",
    "b = a[::-1]\n",
    "print(b)"
   ]
  },
  {
   "cell_type": "code",
   "execution_count": null,
   "id": "5266707d",
   "metadata": {},
   "outputs": [],
   "source": [
    "a = [1,25,45,43,234,67]\n",
    "b= []\n",
    "for i in reversed(a):\n",
    "    print(i)\n",
    "    b.append(i)\n",
    "print(b)"
   ]
  },
  {
   "cell_type": "code",
   "execution_count": null,
   "id": "43fb4d2e",
   "metadata": {},
   "outputs": [],
   "source": []
  }
 ],
 "metadata": {
  "kernelspec": {
   "display_name": "Python 3",
   "language": "python",
   "name": "python3"
  },
  "language_info": {
   "codemirror_mode": {
    "name": "ipython",
    "version": 3
   },
   "file_extension": ".py",
   "mimetype": "text/x-python",
   "name": "python",
   "nbconvert_exporter": "python",
   "pygments_lexer": "ipython3",
   "version": "3.6.13"
  }
 },
 "nbformat": 4,
 "nbformat_minor": 5
}
