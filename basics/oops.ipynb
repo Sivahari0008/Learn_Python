{
 "cells": [
  {
   "cell_type": "code",
   "execution_count": null,
   "id": "745af1cd",
   "metadata": {},
   "outputs": [],
   "source": [
    "class car:  \n",
    "    def __init__(self,modelname, year):  \n",
    "        self.modelname = modelname  \n",
    "        self.year = year  \n",
    "    def display(self):  \n",
    "        print(self.modelname,self.year)  \n",
    "  \n",
    "c1 = car(\"Toyota\", 2016)  \n",
    "c1.display()  "
   ]
  },
  {
   "cell_type": "code",
   "execution_count": null,
   "id": "7f835f91",
   "metadata": {},
   "outputs": [],
   "source": [
    "class car:\n",
    "    def __init__(self,Modelname,year):\n",
    "        self.Modelyear = Modelname\n",
    "        self.year = year\n",
    "    def display(self):\n",
    "        return(self.Modelyear,self.year)\n",
    "c1 = car(\"toyota\",2016)\n",
    "c2 = car(\"maruti\",2019)\n",
    "c2.display()"
   ]
  },
  {
   "cell_type": "code",
   "execution_count": 1,
   "id": "77d91cff",
   "metadata": {},
   "outputs": [
    {
     "name": "stdout",
     "output_type": "stream",
     "text": [
      "10 Devansh\n"
     ]
    }
   ],
   "source": [
    "class Employee:    \n",
    "    id = 10   \n",
    "    name = \"Devansh\"    \n",
    "    def display (self):    \n",
    "        print(self.id,self.name)\n",
    "emp = Employee()\n",
    "emp.display()"
   ]
  },
  {
   "cell_type": "code",
   "execution_count": null,
   "id": "dd4b851f",
   "metadata": {},
   "outputs": [],
   "source": [
    "class Employee:    \n",
    "    id = 10   \n",
    "    name = \"Devansh\"    \n",
    "    def display (self):    \n",
    "        print(self.id,self.name)\n",
    "emp = Employee()\n",
    "emp.display()\n",
    "del emp.id\n",
    "# Deleting the object itself  \n",
    "del emp"
   ]
  },
  {
   "cell_type": "code",
   "execution_count": null,
   "id": "64b128e3",
   "metadata": {},
   "outputs": [],
   "source": [
    "class number_object(object):\n",
    "    def __init__(self, number):\n",
    "        self.number = number\n",
    "\n",
    "object_0 =  number_object(\"audi\")\n",
    "object_1 =  number_object(1)\n",
    "object_2 =  number_object(2)\n",
    "\n",
    "\n",
    "object_list = [object_0, object_1, object_2]\n",
    "\n",
    "for obj in object_list:\n",
    "     print(obj.number)"
   ]
  },
  {
   "cell_type": "code",
   "execution_count": 2,
   "id": "9187cebe",
   "metadata": {},
   "outputs": [
    {
     "name": "stdout",
     "output_type": "stream",
     "text": [
      "wap car: lambo price: 2332000 2045 french\n"
     ]
    }
   ],
   "source": [
    "class cars():\n",
    "    def __init__(self,car,price,year,make):\n",
    "        self.car = car\n",
    "        self.price = price\n",
    "        self.year = year\n",
    "        self.make = make\n",
    "audi = cars(\"audi\",100000,2017,\"german\")\n",
    "b = cars(\"benz\",150000,2015,\"italian\")\n",
    "c = cars(\"lambo\",2332000,2045,\"french\")\n",
    "\n",
    "list = [audi,b,c]\n",
    "\n",
    "for i in list:\n",
    "    #print(i.car,i.price,i.year,i.make)\n",
    "    if i == c:\n",
    "        print(\"wap\",\"car:\",i.car,\"price:\",i.price,i.year,i.make)"
   ]
  },
  {
   "cell_type": "code",
   "execution_count": null,
   "id": "e2bf1174",
   "metadata": {},
   "outputs": [],
   "source": [
    "def bubbleSort(arr):\n",
    "    n = len(arr)\n",
    "  \n",
    "    # Traverse through all array elements\n",
    "    for i in range(n-1):\n",
    "    # range(n) also work but outer loop will repeat one time more than needed.\n",
    "  \n",
    "        # Last i elements are already in place\n",
    "        for j in range(0, n-i-1):\n",
    "  \n",
    "            # traverse the array from 0 to n-i-1\n",
    "            # Swap if the element found is greater\n",
    "            # than the next element\n",
    "            if arr[j] > arr[j + 1] :\n",
    "                arr[j], arr[j + 1] = arr[j + 1], arr[j]\n",
    "  \n",
    "# Driver code to test above\n",
    "arr = [64, 34, 25, 12, 22, 11, 90]\n",
    "  \n",
    "bubbleSort(arr)\n",
    "  \n",
    "print (\"Sorted array is:\")\n",
    "for i in range(len(arr)):\n",
    "    print (\"% d\" % arr[i],end = \" \"), "
   ]
  },
  {
   "cell_type": "code",
   "execution_count": null,
   "id": "195a5451",
   "metadata": {},
   "outputs": [],
   "source": [
    "def bubble(arr):\n",
    "    a = len(arr)\n",
    "    for i in range(0,a-1):\n",
    "        for j in range(0,a-i-1):\n",
    "            if arr[j]>arr[j+1]:\n",
    "                arr[j],arr[j+1] = arr[j+1],arr[j]\n",
    "    return arr\n",
    "arr = []\n",
    "for m in range(int(input())):\n",
    "    n = int(input())\n",
    "    arr.append(n)\n",
    "bubble(arr)                "
   ]
  },
  {
   "cell_type": "code",
   "execution_count": 4,
   "id": "0fec63fb",
   "metadata": {},
   "outputs": [
    {
     "data": {
      "text/plain": [
       "[1, 2, 4, 4, 6]"
      ]
     },
     "execution_count": 4,
     "metadata": {},
     "output_type": "execute_result"
    }
   ],
   "source": [
    "def bub(arr):\n",
    "    n = len(arr)\n",
    "    for i in range(0,n-1):\n",
    "        for j in range(0,n-i-1):\n",
    "            if arr[j]>arr[j+1]:\n",
    "                arr[j],arr[j+1] = arr[j+1],arr[j]\n",
    "    return arr\n",
    "arr = [1,4,6,2,4]\n",
    "bub(arr)\n",
    "                \n",
    "    "
   ]
  },
  {
   "cell_type": "code",
   "execution_count": 10,
   "id": "c7ab06ce",
   "metadata": {},
   "outputs": [
    {
     "data": {
      "text/plain": [
       "[1, 2, 3, 4, 5, 6]"
      ]
     },
     "execution_count": 10,
     "metadata": {},
     "output_type": "execute_result"
    }
   ],
   "source": [
    "def insertionsort(Array):\n",
    "    for i in range(1,len(Array)):\n",
    "        key = Array[i]\n",
    "        j = i-1\n",
    "        while j>= 0 and Array[j]>key:\n",
    "            Array[j+1] = Array[j]\n",
    "            j-=1\n",
    "        Array[j+1] = key\n",
    "    return Array\n",
    "Array = [4,2,6,1,3,5]\n",
    "insertionsort(Array)\n",
    "\n",
    "            \n",
    "            "
   ]
  },
  {
   "cell_type": "code",
   "execution_count": 11,
   "id": "0f066fc3",
   "metadata": {},
   "outputs": [
    {
     "name": "stdout",
     "output_type": "stream",
     "text": [
      "[17, 20, 26, 31, 44, 54, 55, 77, 93]\n"
     ]
    }
   ],
   "source": [
    "def mergeSort(myList):\n",
    "    if len(myList) > 1:\n",
    "        mid = len(myList) // 2\n",
    "        left = myList[:mid]\n",
    "        right = myList[mid:]\n",
    "\n",
    "        # Recursive call on each half\n",
    "        mergeSort(left)\n",
    "        mergeSort(right)\n",
    "\n",
    "        # Two iterators for traversing the two halves\n",
    "        i = 0\n",
    "        j = 0\n",
    "        \n",
    "        # Iterator for the main list\n",
    "        k = 0\n",
    "        \n",
    "        while i < len(left) and j < len(right):\n",
    "            if left[i] <= right[j]:\n",
    "              # The value from the left half has been used\n",
    "              myList[k] = left[i]\n",
    "              # Move the iterator forward\n",
    "              i += 1\n",
    "            else:\n",
    "                myList[k] = right[j]\n",
    "                j += 1\n",
    "            # Move to the next slot\n",
    "            k += 1\n",
    "\n",
    "        # For all the remaining values\n",
    "        while i < len(left):\n",
    "            myList[k] = left[i]\n",
    "            i += 1\n",
    "            k += 1\n",
    "\n",
    "        while j < len(right):\n",
    "            myList[k]=right[j]\n",
    "            j += 1\n",
    "            k += 1\n",
    "\n",
    "myList = [54,26,93,17,77,31,44,55,20]\n",
    "mergeSort(myList)\n",
    "print(myList)"
   ]
  },
  {
   "cell_type": "code",
   "execution_count": null,
   "id": "8bc02509",
   "metadata": {},
   "outputs": [],
   "source": []
  }
 ],
 "metadata": {
  "kernelspec": {
   "display_name": "Python 3",
   "language": "python",
   "name": "python3"
  },
  "language_info": {
   "codemirror_mode": {
    "name": "ipython",
    "version": 3
   },
   "file_extension": ".py",
   "mimetype": "text/x-python",
   "name": "python",
   "nbconvert_exporter": "python",
   "pygments_lexer": "ipython3",
   "version": "3.6.13"
  }
 },
 "nbformat": 4,
 "nbformat_minor": 5
}
