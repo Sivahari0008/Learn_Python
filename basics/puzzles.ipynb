{
 "cells": [
  {
   "cell_type": "raw",
   "id": "ade41ef4",
   "metadata": {
    "raw_mimetype": "text/markdown"
   },
   "source": [
    "PALINDROME"
   ]
  },
  {
   "cell_type": "code",
   "execution_count": null,
   "id": "f3b37140",
   "metadata": {},
   "outputs": [],
   "source": [
    "a = input()\n",
    "if a == a[::-1]:\n",
    "    print(\"it is palindrome\")"
   ]
  },
  {
   "cell_type": "markdown",
   "id": "3e7f532d",
   "metadata": {},
   "source": [
    "FIBANOCCI"
   ]
  },
  {
   "cell_type": "code",
   "execution_count": null,
   "id": "040736d6",
   "metadata": {},
   "outputs": [],
   "source": [
    "n = int(input(\"enter number :\"))\n",
    "a = 0\n",
    "b = 1\n",
    "count = 0\n",
    "if n<0:\n",
    "    n = int(input())\n",
    "elif n == 1:\n",
    "    print(n)\n",
    "else:\n",
    "    while count < n:\n",
    "        print(a)\n",
    "        c = a+b\n",
    "        a = b\n",
    "        b = c\n",
    "        count += 1"
   ]
  },
  {
   "cell_type": "code",
   "execution_count": null,
   "id": "e6631001",
   "metadata": {},
   "outputs": [],
   "source": [
    "import array\n",
    "a = [1, 2, 3]\n",
    "print (a[-3])\n",
    "print (a[-2])\n",
    "print (a[-1])"
   ]
  },
  {
   "cell_type": "code",
   "execution_count": null,
   "id": "58ef279d",
   "metadata": {},
   "outputs": [],
   "source": [
    "names = ['Chris', 'Jack', 'John', 'Daman']\n",
    "print(names[-1][-1])"
   ]
  },
  {
   "cell_type": "markdown",
   "id": "6cf82507",
   "metadata": {},
   "source": [
    "REVERSE number"
   ]
  },
  {
   "cell_type": "code",
   "execution_count": null,
   "id": "47f95b75",
   "metadata": {},
   "outputs": [],
   "source": [
    "a = int(input())\n",
    "rev = 0\n",
    "while a:\n",
    "    dig = a%10\n",
    "    rev = rev*10+dig\n",
    "    a = a//10\n",
    "print(rev)"
   ]
  },
  {
   "cell_type": "code",
   "execution_count": null,
   "id": "a78270cd",
   "metadata": {},
   "outputs": [],
   "source": [
    "a = int(input())\n",
    "rev = 0\n",
    "while a:\n",
    "    dig = a%10\n",
    "    rev = rev+dig\n",
    "    a = a//10\n",
    "print(rev)"
   ]
  },
  {
   "cell_type": "code",
   "execution_count": null,
   "id": "6a08f007",
   "metadata": {},
   "outputs": [],
   "source": [
    "a=int(input(\"Enter number: \"))\n",
    "k=0\n",
    "for i in range(2,a//2+1):\n",
    "    if(a%i==0):\n",
    "        k=k+1\n",
    "if(k<=0):\n",
    "        print(\"Number is prime\")\n",
    "else:\n",
    "        print(\"Number isn't prime\")\n"
   ]
  },
  {
   "cell_type": "code",
   "execution_count": null,
   "id": "775bc1df",
   "metadata": {},
   "outputs": [],
   "source": [
    "n = int(input(\"Enter any number: \"))\n",
    "sum1 = 0\n",
    "for i in range(1, n):\n",
    "    if(n % i == 0):\n",
    "        sum1 = sum1 + i\n",
    "if (sum1 == n):\n",
    "        print(\"The number is a Perfect number!\")\n",
    "else:\n",
    "        print(\"The number is not a Perfect number!\")"
   ]
  },
  {
   "cell_type": "code",
   "execution_count": null,
   "id": "8cec8a9f",
   "metadata": {},
   "outputs": [],
   "source": [
    "a = int(input())\n",
    "count = 0\n",
    "b,c = 0,1\n",
    "if a<0:\n",
    "    a = int(input(\"enter positive number:\"))\n",
    "elif a == 1:\n",
    "    print(a)\n",
    "else:\n",
    "    while count<a:\n",
    "        print(b)\n",
    "        d = b+c\n",
    "        b = c\n",
    "        c = d\n",
    "        count += 1"
   ]
  },
  {
   "cell_type": "code",
   "execution_count": null,
   "id": "4407756b",
   "metadata": {},
   "outputs": [],
   "source": [
    "a = input()\n",
    "if a == a[::-1]:\n",
    "    print(\"palindrome\")"
   ]
  },
  {
   "cell_type": "code",
   "execution_count": null,
   "id": "993a88f4",
   "metadata": {},
   "outputs": [],
   "source": [
    "a = input()\n",
    "b = a[::-1]\n",
    "print(b)"
   ]
  },
  {
   "cell_type": "code",
   "execution_count": null,
   "id": "44ba4548",
   "metadata": {},
   "outputs": [],
   "source": [
    "a = [\"hi\",\"hello\",\"lo\"]\n",
    "b = ''.join(a)\n",
    "print(b)"
   ]
  },
  {
   "cell_type": "code",
   "execution_count": null,
   "id": "482f0413",
   "metadata": {},
   "outputs": [],
   "source": [
    "print(4%10)"
   ]
  },
  {
   "cell_type": "code",
   "execution_count": 8,
   "id": "0b19019d",
   "metadata": {},
   "outputs": [
    {
     "name": "stdout",
     "output_type": "stream",
     "text": [
      "2 3 5 7 11 13 17 19 23 29 31 37 41 43 47 53 59 61 67 71 73 79 83 89 97 "
     ]
    }
   ],
   "source": [
    "for i in range(2,100):\n",
    "    count= 0\n",
    "    for j in range(2,i//2+1):\n",
    "        if (i%j == 0):\n",
    "            count += 1\n",
    "    if (count == 0 and i != 0):\n",
    "        print(i,end = \" \")"
   ]
  },
  {
   "cell_type": "code",
   "execution_count": null,
   "id": "d6ebfac5",
   "metadata": {},
   "outputs": [],
   "source": []
  }
 ],
 "metadata": {
  "kernelspec": {
   "display_name": "Python 3",
   "language": "python",
   "name": "python3"
  },
  "language_info": {
   "codemirror_mode": {
    "name": "ipython",
    "version": 3
   },
   "file_extension": ".py",
   "mimetype": "text/x-python",
   "name": "python",
   "nbconvert_exporter": "python",
   "pygments_lexer": "ipython3",
   "version": "3.6.13"
  }
 },
 "nbformat": 4,
 "nbformat_minor": 5
}
